{
 "cells": [
  {
   "cell_type": "code",
   "execution_count": 4,
   "id": "33d7553a",
   "metadata": {},
   "outputs": [
    {
     "name": "stdout",
     "output_type": "stream",
     "text": [
      "4321\n"
     ]
    }
   ],
   "source": [
    "#B1\n",
    "n='1234'\n",
    "n=n[::-1]\n",
    "print(n)"
   ]
  },
  {
   "cell_type": "code",
   "execution_count": 6,
   "id": "f56c00d9",
   "metadata": {},
   "outputs": [
    {
     "name": "stdout",
     "output_type": "stream",
     "text": [
      "2 1\n"
     ]
    }
   ],
   "source": [
    "#B2\n",
    "a,b=map(int,input().split())\n",
    "a=a^b\n",
    "b=a^b\n",
    "a=a^b\n",
    "print(a,b)"
   ]
  },
  {
   "cell_type": "code",
   "execution_count": 9,
   "id": "ff20705d",
   "metadata": {},
   "outputs": [
    {
     "name": "stdout",
     "output_type": "stream",
     "text": [
      "False\n"
     ]
    }
   ],
   "source": [
    "#B3\n",
    "n=int(input())\n",
    "if n>0 and n&(n-1)==0:\n",
    "    print(True)\n",
    "else:\n",
    "    print(False)"
   ]
  },
  {
   "cell_type": "code",
   "execution_count": 10,
   "id": "88a9cc45",
   "metadata": {},
   "outputs": [
    {
     "name": "stdout",
     "output_type": "stream",
     "text": [
      "51\n"
     ]
    }
   ],
   "source": [
    "#B4\n",
    "a,b=map(int,input().split())\n",
    "print(a//b)"
   ]
  },
  {
   "cell_type": "code",
   "execution_count": 13,
   "id": "7de25328",
   "metadata": {},
   "outputs": [
    {
     "name": "stdout",
     "output_type": "stream",
     "text": [
      "1\n"
     ]
    }
   ],
   "source": [
    "#B5\n",
    "a,b=map(int,input().split())\n",
    "k=a/b\n",
    "if k%1==0:\n",
    "    print(int(k))\n",
    "else:\n",
    "    print(int(k)+1)"
   ]
  },
  {
   "cell_type": "code",
   "execution_count": 15,
   "id": "54b8f1ef",
   "metadata": {},
   "outputs": [
    {
     "name": "stdout",
     "output_type": "stream",
     "text": [
      "ODD\n"
     ]
    }
   ],
   "source": [
    "#B6\n",
    "a=int(input())\n",
    "if a%2==0:\n",
    "    print(\"EVEN\")\n",
    "else:\n",
    "    print(\"ODD\")\n",
    "    "
   ]
  },
  {
   "cell_type": "code",
   "execution_count": null,
   "id": "7c9d1a26",
   "metadata": {},
   "outputs": [
    {
     "name": "stdout",
     "output_type": "stream",
     "text": [
      "No\n"
     ]
    }
   ],
   "source": [
    "#B7\n",
    "a=int(input())\n",
    "b=int(input())\n",
    "if a<0 and b<0:\n",
    "    print('Yes')\n",
    "else:\n",
    "    print('No')\n"
   ]
  },
  {
   "cell_type": "code",
   "execution_count": 17,
   "id": "22ee5955",
   "metadata": {},
   "outputs": [
    {
     "name": "stdout",
     "output_type": "stream",
     "text": [
      "False\n"
     ]
    }
   ],
   "source": [
    "#B8\n",
    "a=input()\n",
    "b=input()\n",
    "if len(a)>len(b):\n",
    "    print(True)\n",
    "else:\n",
    "    print(False)"
   ]
  },
  {
   "cell_type": "code",
   "execution_count": 18,
   "id": "83ee7226",
   "metadata": {},
   "outputs": [
    {
     "name": "stdout",
     "output_type": "stream",
     "text": [
      "No\n"
     ]
    }
   ],
   "source": [
    "#B9\n",
    "a,b,c=map(int,input().split())\n",
    "if a+b>c and b+c>a and a+c>b:\n",
    "    print('Yes')\n",
    "else:\n",
    "    print('No')\n"
   ]
  },
  {
   "cell_type": "code",
   "execution_count": 20,
   "id": "d388ef87",
   "metadata": {},
   "outputs": [
    {
     "name": "stdout",
     "output_type": "stream",
     "text": [
      "4\n"
     ]
    }
   ],
   "source": [
    "#B10\n",
    "a=int(input())\n",
    "b=int(input())\n",
    "c=int(input())\n",
    "d=int(input())\n",
    "lst=[a,b,c,d]\n",
    "print(max(lst))\n"
   ]
  },
  {
   "cell_type": "code",
   "execution_count": 25,
   "id": "197ad73b",
   "metadata": {},
   "outputs": [
    {
     "name": "stdout",
     "output_type": "stream",
     "text": [
      "Không phải tam giác\n"
     ]
    }
   ],
   "source": [
    "#B11\n",
    "a,b,c=map(int,input().split())\n",
    "if not(a+b>c and b+c>a and a+c>b):\n",
    "    print('Không phải tam giác')\n",
    "elif a==b==c:\n",
    "    print('Tam giác đều')\n",
    "elif a==b!=c or a==c!=b or b==c!=a:\n",
    "    print('Tam giác cân')\n",
    "else:\n",
    "    print('Tam giác thường')"
   ]
  },
  {
   "cell_type": "code",
   "execution_count": 28,
   "id": "0cd547c3",
   "metadata": {},
   "outputs": [
    {
     "name": "stdout",
     "output_type": "stream",
     "text": [
      "No\n"
     ]
    }
   ],
   "source": [
    "#B12\n",
    "n=int(input())\n",
    "if (n%4==0 and n%100!=0) or n%400==0:\n",
    "    print('Yes')\n",
    "else:\n",
    "    print('No')"
   ]
  },
  {
   "cell_type": "code",
   "execution_count": 35,
   "id": "46f083c8",
   "metadata": {},
   "outputs": [
    {
     "name": "stdout",
     "output_type": "stream",
     "text": [
      "0\n"
     ]
    }
   ],
   "source": [
    "#B13\n",
    "n=int(input())\n",
    "if n<=50:\n",
    "    print(n*1500)\n",
    "elif n<=100:\n",
    "    print((n-50)*2000+50*1500)\n",
    "else:\n",
    "    print((n-100)*3000 + 50*1500 +50*2000)"
   ]
  },
  {
   "cell_type": "code",
   "execution_count": 41,
   "id": "1335063e",
   "metadata": {},
   "outputs": [
    {
     "name": "stdout",
     "output_type": "stream",
     "text": [
      "-430.87\n"
     ]
    }
   ],
   "source": [
    "#b14\n",
    "a=float(input())\n",
    "b=float(input())\n",
    "if a==0:\n",
    "    if b==0:\n",
    "        print('Vô số nghiệm')\n",
    "    else:\n",
    "        print('Vô nghiệm')\n",
    "else:\n",
    "    print(f'{-b/a:.2f}')\n"
   ]
  },
  {
   "cell_type": "code",
   "execution_count": 42,
   "id": "d1de3fc1",
   "metadata": {},
   "outputs": [
    {
     "name": "stdout",
     "output_type": "stream",
     "text": [
      "Giỏi\n"
     ]
    }
   ],
   "source": [
    "#B15\n",
    "n=float(input())\n",
    "if n<5:\n",
    "    print(\"Yếu\")\n",
    "elif n<6.5:\n",
    "    print(\"Trung bình\")\n",
    "elif n<8:\n",
    "    print(\"Khá\")\n",
    "else:\n",
    "    print(\"Giỏi\")\n"
   ]
  },
  {
   "cell_type": "code",
   "execution_count": null,
   "id": "c0efdaca",
   "metadata": {},
   "outputs": [
    {
     "ename": "SyntaxError",
     "evalue": "invalid decimal literal (1361716568.py, line 3)",
     "output_type": "error",
     "traceback": [
      "  \u001b[36mCell\u001b[39m\u001b[36m \u001b[39m\u001b[32mIn[44]\u001b[39m\u001b[32m, line 3\u001b[39m\n\u001b[31m    \u001b[39m\u001b[31mprint(a:.0f)\u001b[39m\n             ^\n\u001b[31mSyntaxError\u001b[39m\u001b[31m:\u001b[39m invalid decimal literal\n"
     ]
    }
   ],
   "source": [
    "a=-5.7\n",
    "a=round(a,0)\n",
    "print(a)"
   ]
  }
 ],
 "metadata": {
  "kernelspec": {
   "display_name": "Python 3",
   "language": "python",
   "name": "python3"
  },
  "language_info": {
   "codemirror_mode": {
    "name": "ipython",
    "version": 3
   },
   "file_extension": ".py",
   "mimetype": "text/x-python",
   "name": "python",
   "nbconvert_exporter": "python",
   "pygments_lexer": "ipython3",
   "version": "3.12.3"
  }
 },
 "nbformat": 4,
 "nbformat_minor": 5
}
