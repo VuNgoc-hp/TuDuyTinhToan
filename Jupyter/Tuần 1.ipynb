{
 "cells": [
  {
   "cell_type": "code",
   "execution_count": 7,
   "id": "9a17b6c3",
   "metadata": {},
   "outputs": [
    {
     "name": "stdout",
     "output_type": "stream",
     "text": [
      "Hello World!\n"
     ]
    }
   ],
   "source": [
    "#W2A1\n",
    "print(\"Hello World!\")"
   ]
  },
  {
   "cell_type": "code",
   "execution_count": 10,
   "id": "397f1d95",
   "metadata": {},
   "outputs": [
    {
     "name": "stdout",
     "output_type": "stream",
     "text": [
      "Chào a\n"
     ]
    }
   ],
   "source": [
    "#W2A2\n",
    "n=input('name:')\n",
    "print('Chào',n)\n"
   ]
  },
  {
   "cell_type": "code",
   "execution_count": 9,
   "id": "2fc37209",
   "metadata": {},
   "outputs": [
    {
     "ename": "ValueError",
     "evalue": "invalid literal for int() with base 10: ''",
     "output_type": "error",
     "traceback": [
      "\u001b[31m---------------------------------------------------------------------------\u001b[39m",
      "\u001b[31mValueError\u001b[39m                                Traceback (most recent call last)",
      "\u001b[36mCell\u001b[39m\u001b[36m \u001b[39m\u001b[32mIn[9]\u001b[39m\u001b[32m, line 2\u001b[39m\n\u001b[32m      1\u001b[39m \u001b[38;5;66;03m#W2A3\u001b[39;00m\n\u001b[32m----> \u001b[39m\u001b[32m2\u001b[39m a=\u001b[38;5;28;43mint\u001b[39;49m\u001b[43m(\u001b[49m\u001b[38;5;28;43minput\u001b[39;49m\u001b[43m(\u001b[49m\u001b[43m)\u001b[49m\u001b[43m)\u001b[49m\n\u001b[32m      3\u001b[39m b=\u001b[38;5;28mint\u001b[39m(\u001b[38;5;28minput\u001b[39m())\n\u001b[32m      4\u001b[39m \u001b[38;5;28mprint\u001b[39m(\u001b[33mf\u001b[39m\u001b[33m'\u001b[39m\u001b[38;5;132;01m{\u001b[39;00ma\u001b[38;5;132;01m}\u001b[39;00m\u001b[33m + \u001b[39m\u001b[38;5;132;01m{\u001b[39;00mb\u001b[38;5;132;01m}\u001b[39;00m\u001b[33m = \u001b[39m\u001b[38;5;132;01m{\u001b[39;00ma+b\u001b[38;5;132;01m}\u001b[39;00m\u001b[33m'\u001b[39m )\n",
      "\u001b[31mValueError\u001b[39m: invalid literal for int() with base 10: ''"
     ]
    }
   ],
   "source": [
    "#W2A3\n",
    "a=int(input())\n",
    "b=int(input())\n",
    "print(f'{a} + {b} = {a+b}' )\n",
    "print( f'{a} - {b} = {a-b}')\n",
    "print(f'{a} * {b} = {a*b}')\n",
    "print(f'{a} // {b} = {a//b}')\n",
    "print(f'{a} % {b} = {a%b}')\n",
    "print(f'{a} / {b} = {(a/b):.2f}')"
   ]
  },
  {
   "cell_type": "code",
   "execution_count": null,
   "id": "7b8568c3",
   "metadata": {},
   "outputs": [],
   "source": [
    "#W2A4\n",
    "a1,b1,c1,a2,b2,a3=map(int,input().split())\n",
    "tb=((a1+b1+c1)+(a2+b2)*2+a3*3)/10\n",
    "print(f'{tb:.1f}')"
   ]
  },
  {
   "cell_type": "code",
   "execution_count": null,
   "id": "f572c3a3",
   "metadata": {},
   "outputs": [],
   "source": [
    "#W2A5\n",
    "a,b=map(int,input().split())\n",
    "print(a**b)"
   ]
  },
  {
   "cell_type": "code",
   "execution_count": null,
   "id": "55e6ab08",
   "metadata": {},
   "outputs": [],
   "source": [
    "#W2A6\n",
    "a=input()\n",
    "if len(a)==1 and 'a'<=a<='z':\n",
    "    k=ord(a)\n",
    "    print(k)\n",
    "    print(chr(k-32))\n",
    "else:\n",
    "    print(\"nhập lại\")\n"
   ]
  },
  {
   "cell_type": "code",
   "execution_count": null,
   "id": "5cf548df",
   "metadata": {},
   "outputs": [],
   "source": [
    "#W2A7\n",
    "a=((13**2)*3)+5\n",
    "b=13**2*3+5\n",
    "print(a,b)\n"
   ]
  },
  {
   "cell_type": "code",
   "execution_count": null,
   "id": "bee8794e",
   "metadata": {},
   "outputs": [],
   "source": [
    "#W2A8\n",
    "c=float(input())\n",
    "f=(9/5)*c+32\n",
    "print(round(f,2))"
   ]
  },
  {
   "cell_type": "code",
   "execution_count": null,
   "id": "8a19ef48",
   "metadata": {},
   "outputs": [],
   "source": [
    "#W2A9\n",
    "cost=int(input())\n",
    "print(f'{(cost*1.4+10):.2f}')"
   ]
  },
  {
   "cell_type": "code",
   "execution_count": null,
   "id": "b71df22c",
   "metadata": {},
   "outputs": [],
   "source": [
    "#W2A10\n",
    "a,b,c=input().split()\n",
    "print(f'Hi {c},{b} and {a}')"
   ]
  },
  {
   "cell_type": "code",
   "execution_count": null,
   "id": "9685b4c7",
   "metadata": {},
   "outputs": [],
   "source": [
    "#W2A11\n",
    "h,m=map(int,input().split())\n",
    "s=h*60*60+m*60\n",
    "print(s)"
   ]
  },
  {
   "cell_type": "code",
   "execution_count": null,
   "id": "86c88d64",
   "metadata": {},
   "outputs": [],
   "source": [
    "#W2A12\n",
    "n=int(input())\n",
    "print(n*n*6)"
   ]
  },
  {
   "cell_type": "code",
   "execution_count": null,
   "id": "05cd6680",
   "metadata": {},
   "outputs": [],
   "source": [
    "#W2A13\n",
    "a,b=map(int,input().split())\n",
    "kq=(a*b)%10\n",
    "print(kq)"
   ]
  },
  {
   "cell_type": "code",
   "execution_count": null,
   "id": "d3678754",
   "metadata": {},
   "outputs": [],
   "source": [
    "#W2A14\n",
    "a,b=map(int,input().split())\n",
    "a,b=b,a\n",
    "print(a,b)"
   ]
  },
  {
   "cell_type": "code",
   "execution_count": null,
   "id": "0c6f9c22",
   "metadata": {},
   "outputs": [],
   "source": [
    "#W2A15\n",
    "n=int(input())\n",
    "print(6*n*(n-1)+1)"
   ]
  },
  {
   "cell_type": "code",
   "execution_count": null,
   "id": "6ae0e5c8",
   "metadata": {},
   "outputs": [],
   "source": [
    "#W2A16\n",
    "print(\"Spring\\nSummer\\nAutumn\\nWinter\")"
   ]
  },
  {
   "cell_type": "code",
   "execution_count": null,
   "id": "0236d770",
   "metadata": {},
   "outputs": [],
   "source": [
    "#W2A17\n",
    "print(\"  *\\n ***\\n*****\")"
   ]
  },
  {
   "cell_type": "code",
   "execution_count": null,
   "id": "7f7964d6",
   "metadata": {},
   "outputs": [],
   "source": [
    "#W2A18\n",
    "print('### # #    ### ###')\n",
    "print(' #  #  #    #   #')\n",
    "print(' #  #   #   #   #')\n",
    "print(' #  #  #    #   #')\n",
    "print(' #  # #     #   #')"
   ]
  },
  {
   "cell_type": "code",
   "execution_count": null,
   "id": "b2933e68",
   "metadata": {},
   "outputs": [],
   "source": [
    "#W2A19\n",
    "print('Monday\\nTuesday\\nWednesday\\nThursday\\nFriday\\nSaturday\\nSunday')"
   ]
  },
  {
   "cell_type": "code",
   "execution_count": null,
   "id": "b7475a75",
   "metadata": {},
   "outputs": [],
   "source": [
    "#W2A20\n",
    "print('January\\nFebuary\\nMarch\\nApril\\nMay\\nJune\\nJuly\\nAugust\\nSeptember\\nOctober\\nNovember\\nDecember')"
   ]
  },
  {
   "cell_type": "code",
   "execution_count": null,
   "id": "e8c6e828",
   "metadata": {},
   "outputs": [],
   "source": [
    "#W2A21\n",
    "print('Hello,world\\nHello,world\\nHello,world\\nHello,world\\nHello,world\\nHello,world\\nHello,world\\nHello,world\\nHello,world\\nHello,world')"
   ]
  }
 ],
 "metadata": {
  "kernelspec": {
   "display_name": "Python 3",
   "language": "python",
   "name": "python3"
  },
  "language_info": {
   "codemirror_mode": {
    "name": "ipython",
    "version": 3
   },
   "file_extension": ".py",
   "mimetype": "text/x-python",
   "name": "python",
   "nbconvert_exporter": "python",
   "pygments_lexer": "ipython3",
   "version": "3.12.3"
  }
 },
 "nbformat": 4,
 "nbformat_minor": 5
}
