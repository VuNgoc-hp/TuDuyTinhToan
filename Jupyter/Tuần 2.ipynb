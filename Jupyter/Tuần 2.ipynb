{
 "cells": [
  {
   "cell_type": "code",
   "execution_count": null,
   "id": "807548bd",
   "metadata": {},
   "outputs": [],
   "source": [
    "#B1\n",
    "n=int(input())\n",
    "print(n*2)"
   ]
  },
  {
   "cell_type": "code",
   "execution_count": null,
   "id": "9b5535b5",
   "metadata": {},
   "outputs": [],
   "source": [
    "#B2\n",
    "width=int(input())\n",
    "length=int(input())\n",
    "circle=((0.5*width)**2)*3.14\n",
    "result=length*width-circle\n",
    "print(f'{result:.2f}')"
   ]
  },
  {
   "cell_type": "code",
   "execution_count": null,
   "id": "3a150b64",
   "metadata": {},
   "outputs": [],
   "source": [
    "#B3\n",
    "char=input()\n",
    "if char.isupper():\n",
    "    print(char.lower())\n",
    "else:\n",
    "    print(char.upper())"
   ]
  },
  {
   "cell_type": "code",
   "execution_count": null,
   "id": "7a50a1a2",
   "metadata": {},
   "outputs": [],
   "source": [
    "#B4\n",
    "c=input()\n",
    "if c.isalpha():\n",
    "    print(f'{c} là alphabet')\n",
    "else:\n",
    "    print(f'{c} không phải là alphabet')\n"
   ]
  },
  {
   "cell_type": "code",
   "execution_count": null,
   "id": "bf34d283",
   "metadata": {},
   "outputs": [],
   "source": [
    "#B5\n",
    "c=input()\n",
    "if c=='a' or c=='A':\n",
    "    print('invalid')\n",
    "else:\n",
    "    x=ord(c)+31\n",
    "    print(chr(x))\n"
   ]
  },
  {
   "cell_type": "code",
   "execution_count": null,
   "id": "efb1d2be",
   "metadata": {},
   "outputs": [],
   "source": [
    "#B6\n",
    "a,b,c=map(float,input().split())\n",
    "if a+b>c and b+c>a and a+c>b and a>0 and b>0 and c>0:\n",
    "    p=(a+b+c)/2\n",
    "    result=(p*(p-a)*(p-b)*(p-c))**0.5\n",
    "    print(f'{result:.1f}')\n",
    "else:\n",
    "    print('Khong phai 3 canh cua tam giac')\n",
    "\n",
    "\n"
   ]
  },
  {
   "cell_type": "code",
   "execution_count": null,
   "id": "5c6130a5",
   "metadata": {},
   "outputs": [],
   "source": [
    "#B7\n",
    "string=input()\n",
    "print(string[4],string[8])"
   ]
  },
  {
   "cell_type": "code",
   "execution_count": null,
   "id": "6eca0965",
   "metadata": {},
   "outputs": [],
   "source": [
    "#B8\n",
    "name=input('Ten chu ho: ')\n",
    "lastind=int(input('Chi so thang truoc: '))\n",
    "nowind=int(input('Chi so thang nay: '))\n",
    "if nowind<=50:\n",
    "    cost=nowind*1984\n",
    "elif nowind<=100:\n",
    "    cost=nowind*2050\n",
    "elif nowind<=200:\n",
    "    cost=nowind*2380\n",
    "elif nowind<=300:\n",
    "    cost=nowind*2998\n",
    "elif nowind<=400:\n",
    "    cost=nowind*3350\n",
    "else:\n",
    "    cost=nowind*3460\n",
    "print(f'Ho va ten: {name}')\n",
    "print(f'Tien phai tra la: {cost}')\n"
   ]
  }
 ],
 "metadata": {
  "language_info": {
   "name": "python"
  }
 },
 "nbformat": 4,
 "nbformat_minor": 5
}
